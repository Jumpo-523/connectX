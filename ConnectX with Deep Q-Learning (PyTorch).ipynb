{
 "cells": [
  {
   "cell_type": "markdown",
   "metadata": {},
   "source": [
    "# About Reinforcement Learning and Deep Q-Learning\n",
    "> \"Reinforcement learning is an area of machine learning that is focused on training agents to take certain actions at certain states from within an environment to maximize rewards. DQN (Deep Q-Net) is a reinforcement learning algorithm where a deep learning model is built to find the actions an agent can take at each state.\" [*Siwei Xu's tutorial\n",
    "*](https://towardsdatascience.com/deep-reinforcement-learning-build-a-deep-q-network-dqn-to-play-cartpole-with-tensorflow-2-and-gym-8e105744b998)"
   ]
  },
  {
   "cell_type": "markdown",
   "metadata": {},
   "source": [
    "# Takubo\n",
    "\n",
    "\n",
    "- Using pretrained models, I plan to make the two models battle and transfer learning\n",
    "\n",
    "not yet to understand\n",
    "---\n",
    "\n",
    "- why do we need TargetNet ?\n",
    "\n",
    "- Can we implement RL adversarially ?"
   ]
  },
  {
   "cell_type": "markdown",
   "metadata": {},
   "source": [
    "<a class=\"anchor\" id=\"ToC\"></a>\n",
    "# Table of Contents\n",
    "1. [Install libraries](#install_libraries)\n",
    "1. [Import libraries](#import_libraries)\n",
    "1. [Define useful classes](#define_useful_classes)\n",
    "1. [Define helper-functions](#define_helper_functions)\n",
    "1. [Create ConnectX environment](#create_connectx_environment)\n",
    "1. [Configure hyper-parameters](#configure_hyper_parameters)\n",
    "1. [Train the agent](#train_the_agent)\n",
    "1. [Save weights](#save_weights)\n",
    "1. [Create an agent](#create_an_agent)\n",
    "1. [Evaluate the agent](#evaluate_the_agent)"
   ]
  },
  {
   "cell_type": "markdown",
   "metadata": {},
   "source": [
    "<a class=\"anchor\" id=\"install_libraries\"></a>\n",
    "# Install libraries\n",
    "[Back to Table of Contents](#ToC)"
   ]
  },
  {
   "cell_type": "code",
   "execution_count": 1,
   "metadata": {
    "_cell_guid": "b1076dfc-b9ad-4769-8c92-a6c4dae69d19",
    "_uuid": "8f2839f25d086af736a60e9eeb907d3b93b6e0e5"
   },
   "outputs": [],
   "source": [
    "# !pip install 'kaggle-environments>=0.1.6' > /dev/null 2>&1\n"
   ]
  },
  {
   "cell_type": "markdown",
   "metadata": {},
   "source": [
    "<a class=\"anchor\" id=\"import_libraries\"></a>\n",
    "# Import libraries\n",
    "[Back to Table of Contents](#ToC)"
   ]
  },
  {
   "cell_type": "code",
   "execution_count": 1,
   "metadata": {
    "_cell_guid": "79c7e3d0-c299-4dcb-8224-4455121ee9b0",
    "_uuid": "d629ff2d2480ee46fbb7e2d37f6b5fab8052498a"
   },
   "outputs": [],
   "source": [
    "import numpy as np\n",
    "import gym\n",
    "import torch\n",
    "import torch.nn as nn\n",
    "import torch.optim as optim\n",
    "import matplotlib.pyplot as plt\n",
    "from tqdm.notebook import tqdm\n",
    "from kaggle_environments import evaluate, make"
   ]
  },
  {
   "cell_type": "markdown",
   "metadata": {},
   "source": [
    "<a class=\"anchor\" id=\"define_useful_classes\"></a>\n",
    "# Define useful classes\n",
    "NOTE: All classes here were copied from my previous [*kernel*](https://www.kaggle.com/phunghieu/connectx-with-deep-q-learning) and switched from using TF2.0 to PyTorch. If you prefer TF2.0, let check [ConnectX with Deep Q-Learning](https://www.kaggle.com/phunghieu/connectx-with-deep-q-learning) kernel.\n",
    "\n",
    "---\n",
    "[Back to Table of Contents](#ToC)"
   ]
  },
  {
   "cell_type": "code",
   "execution_count": 12,
   "metadata": {},
   "outputs": [],
   "source": [
    "class ConnectX(gym.Env):\n",
    "    def __init__(self, switch_prob=0.5, pair=[None, 'random']):\n",
    "        self.env = make('connectx', debug=False)\n",
    "        self.pair = [None, 'random']\n",
    "        self.trainer = self.env.train(self.pair)\n",
    "        self.switch_prob = switch_prob\n",
    "\n",
    "        # Define required gym fields (examples):\n",
    "        config = self.env.configuration\n",
    "        self.action_space = gym.spaces.Discrete(config.columns)\n",
    "        self.observation_space = gym.spaces.Discrete(config.columns * config.rows)\n",
    "\n",
    "    def switch_trainer(self):\n",
    "        self.pair = self.pair[::-1]\n",
    "        self.trainer = self.env.train(self.pair)\n",
    "\n",
    "    def step(self, action):\n",
    "        return self.trainer.step(action)\n",
    "    \n",
    "    def reset(self):\n",
    "        if np.random.random() < self.switch_prob:\n",
    "            self.switch_trainer()\n",
    "        return self.trainer.reset()\n",
    "    \n",
    "    def render(self, **kwargs):\n",
    "        return self.env.render(**kwargs)\n",
    "    \n",
    "    \n",
    "class DeepModel(nn.Module):\n",
    "    def __init__(self, num_states, hidden_units, num_actions):\n",
    "        super(DeepModel, self).__init__()\n",
    "        self.hidden_layers = nn.ModuleList([])\n",
    "        for i in range(len(hidden_units)):\n",
    "            if i == 0:\n",
    "                self.hidden_layers.append(\n",
    "                    nn.Linear(num_states, hidden_units[i])\n",
    "                )\n",
    "            else:\n",
    "                self.hidden_layers.append(\n",
    "                    nn.Linear(hidden_units[i-1], hidden_units[i])\n",
    "                )\n",
    "        self.output_layer = nn.Linear(hidden_units[-1], num_actions)\n",
    "\n",
    "    def forward(self, x):\n",
    "        for layer in self.hidden_layers:\n",
    "            x = torch.sigmoid(layer(x))\n",
    "        x = self.output_layer(x)\n",
    "\n",
    "        return x\n",
    "\n",
    "\n",
    "class DQN:\n",
    "    def __init__(self, num_states, num_actions, hidden_units, gamma, max_experiences, min_experiences, batch_size, lr):\n",
    "        self.num_actions = num_actions\n",
    "        self.batch_size = batch_size\n",
    "        self.gamma = gamma\n",
    "        self.model = DeepModel(num_states, hidden_units, num_actions)\n",
    "        self.optimizer = optim.Adam(self.model.parameters(), lr=lr)\n",
    "        self.criterion = nn.MSELoss()\n",
    "        self.experience = {'s': [], 'a': [], 'r': [], 's2': [], 'done': []} # The buffer\n",
    "        self.max_experiences = max_experiences\n",
    "        self.min_experiences = min_experiences\n",
    "\n",
    "    def predict(self, inputs):\n",
    "        return self.model(torch.from_numpy(inputs).float())\n",
    "\n",
    "    def train(self, TargetNet):\n",
    "        if len(self.experience['s']) < self.min_experiences:\n",
    "            # Only start the training process when we have enough experiences in the buffer\n",
    "            return 0\n",
    "\n",
    "        # Randomly select n experience in the buffer, n is batch-size\n",
    "        ids = np.random.randint(low=0, high=len(self.experience['s']), size=self.batch_size)\n",
    "        states = np.asarray([self.preprocess(self.experience['s'][i]) for i in ids])\n",
    "        actions = np.asarray([self.experience['a'][i] for i in ids])\n",
    "        rewards = np.asarray([self.experience['r'][i] for i in ids])\n",
    "\n",
    "        # Prepare labels for training process\n",
    "        states_next = np.asarray([self.preprocess(self.experience['s2'][i]) for i in ids])\n",
    "        dones = np.asarray([self.experience['done'][i] for i in ids])\n",
    "        value_next = np.max(TargetNet.predict(states_next).detach().numpy(), axis=1)\n",
    "        actual_values = np.where(dones, rewards, rewards+self.gamma*value_next)\n",
    "\n",
    "        actions = np.expand_dims(actions, axis=1)\n",
    "        actions_one_hot = torch.FloatTensor(self.batch_size, self.num_actions).zero_()\n",
    "        actions_one_hot = actions_one_hot.scatter_(1, torch.LongTensor(actions), 1)\n",
    "        selected_action_values = torch.sum(self.predict(states) * actions_one_hot, dim=1)\n",
    "        actual_values = torch.FloatTensor(actual_values)\n",
    "\n",
    "        self.optimizer.zero_grad()\n",
    "        loss = self.criterion(selected_action_values, actual_values)\n",
    "        loss.backward()\n",
    "        self.optimizer.step()\n",
    "\n",
    "    # Get an action by using epsilon-greedy\n",
    "    def get_action(self, state, epsilon):\n",
    "        if np.random.random() < epsilon:\n",
    "            return int(np.random.choice([c for c in range(self.num_actions) if state.board[c] == 0]))\n",
    "        else:\n",
    "            prediction = self.predict(np.atleast_2d(self.preprocess(state)))[0].detach().numpy()\n",
    "            for i in range(self.num_actions):\n",
    "                # もうすでに埋まっているcellは対象外\n",
    "                if state.board[i] != 0:\n",
    "                    prediction[i] = -1e7\n",
    "            return int(np.argmax(prediction))\n",
    "\n",
    "    # Method used to manage the buffer\n",
    "    def add_experience(self, exp):\n",
    "        if len(self.experience['s']) >= self.max_experiences:\n",
    "            for key in self.experience.keys():\n",
    "                self.experience[key].pop(0)\n",
    "        for key, value in exp.items():\n",
    "            self.experience[key].append(value)\n",
    "\n",
    "    def copy_weights(self, TrainNet):\n",
    "        self.model.load_state_dict(TrainNet.state_dict())\n",
    "\n",
    "    def save_weights(self, path):\n",
    "        torch.save(self.model.state_dict(), path)\n",
    "\n",
    "    def load_weights(self, path):\n",
    "        self.model.load_state_dict(torch.load(path))\n",
    "    \n",
    "    # Each state will consist of the board and the mark\n",
    "    # in the observations\n",
    "    def preprocess(self, state):\n",
    "        result = state.board[:]\n",
    "        result.append(state.mark)\n",
    "\n",
    "        return result"
   ]
  },
  {
   "cell_type": "markdown",
   "metadata": {},
   "source": [
    "<a class=\"anchor\" id=\"define_helper_functions\"></a>\n",
    "# Define helper-functions\n",
    "[Back to Table of Contents](#ToC)"
   ]
  },
  {
   "cell_type": "code",
   "execution_count": 3,
   "metadata": {},
   "outputs": [],
   "source": [
    "def play_game(env, TrainNet, TargetNet, epsilon, copy_step):\n",
    "    rewards = 0\n",
    "    iter = 0\n",
    "    done = False\n",
    "    observations = env.reset()\n",
    "    while not done:\n",
    "        # Using epsilon-greedy to get an action\n",
    "        action = TrainNet.get_action(observations, epsilon)\n",
    "\n",
    "        # Caching the information of current state\n",
    "        prev_observations = observations\n",
    "\n",
    "        # Take action\n",
    "        observations, reward, done, _ = env.step(action)\n",
    "\n",
    "        # Apply new rules\n",
    "        if done:\n",
    "            if reward == 1: # Won\n",
    "                reward = 20\n",
    "            elif reward == 0: # Lost\n",
    "                reward = -20\n",
    "            else: # Draw\n",
    "                reward = 10\n",
    "        else:\n",
    "#             reward = -0.05 # Try to prevent the agent from taking a long move\n",
    "\n",
    "            # Try to promote the agent to \"struggle\" when playing against negamax agent\n",
    "            # as Magolor's (@magolor) idea\n",
    "            reward = 0.5\n",
    "\n",
    "        rewards += reward\n",
    "\n",
    "        # Adding experience into buffer\n",
    "        exp = {'s': prev_observations, 'a': action, 'r': reward, 's2': observations, 'done': done}\n",
    "        TrainNet.add_experience(exp)\n",
    "\n",
    "        # Train the training model by using experiences in buffer and the target model\n",
    "        TrainNet.train(TargetNet)\n",
    "        iter += 1\n",
    "        if iter % copy_step == 0:\n",
    "            # Update the weights of the target model when reaching enough \"copy step\"\n",
    "            TargetNet.copy_weights(TrainNet)\n",
    "    return rewards"
   ]
  },
  {
   "cell_type": "markdown",
   "metadata": {},
   "source": [
    "<a class=\"anchor\" id=\"create_connectx_environment\"></a>\n",
    "# Create ConnectX environment\n",
    "[Back to Table of Contents](#ToC)"
   ]
  },
  {
   "cell_type": "code",
   "execution_count": 4,
   "metadata": {},
   "outputs": [],
   "source": [
    "env = ConnectX()"
   ]
  },
  {
   "cell_type": "markdown",
   "metadata": {},
   "source": [
    "<a class=\"anchor\" id=\"configure_hyper_parameters\"></a>\n",
    "# Configure hyper-parameters\n",
    "[Back to Table of Contents](#ToC)"
   ]
  },
  {
   "cell_type": "code",
   "execution_count": 6,
   "metadata": {},
   "outputs": [],
   "source": [
    "gamma = 0.99\n",
    "copy_step = 25\n",
    "hidden_units = [128, 128, 128, 128, 128]\n",
    "max_experiences = 10000\n",
    "min_experiences = 100\n",
    "batch_size = 32\n",
    "lr = 1e-2\n",
    "epsilon = 0.5\n",
    "decay = 0.9999\n",
    "min_epsilon = 0.1\n",
    "episodes = 5000\n",
    "\n",
    "precision = 7"
   ]
  },
  {
   "cell_type": "markdown",
   "metadata": {},
   "source": [
    "<a class=\"anchor\" id=\"train_the_agent\"></a>\n",
    "# Train the agent\n",
    "[Back to Table of Contents](#ToC)"
   ]
  },
  {
   "cell_type": "code",
   "execution_count": 7,
   "metadata": {},
   "outputs": [],
   "source": [
    "num_states = env.observation_space.n + 1\n",
    "num_actions = env.action_space.n\n",
    "\n",
    "all_total_rewards = np.empty(episodes)\n",
    "all_avg_rewards = np.empty(episodes) # Last 100 steps\n",
    "all_epsilons = np.empty(episodes)\n",
    "\n",
    "# Initialize models\n",
    "TrainNet = DQN(num_states, num_actions, hidden_units, gamma, max_experiences, min_experiences, batch_size, lr)\n",
    "TargetNet = DQN(num_states, num_actions, hidden_units, gamma, max_experiences, min_experiences, batch_size, lr)"
   ]
  },
  {
   "cell_type": "code",
   "execution_count": 8,
   "metadata": {},
   "outputs": [
    {
     "data": {
      "application/vnd.jupyter.widget-view+json": {
       "model_id": "0ecb6e5d476f463e95323ecd09261ce8",
       "version_major": 2,
       "version_minor": 0
      },
      "text/plain": [
       "HBox(children=(IntProgress(value=0, max=5000), HTML(value='')))"
      ]
     },
     "metadata": {},
     "output_type": "display_data"
    },
    {
     "name": "stdout",
     "output_type": "stream",
     "text": [
      "\n"
     ]
    }
   ],
   "source": [
    "pbar = tqdm(range(episodes))\n",
    "for n in pbar:\n",
    "    epsilon = max(min_epsilon, epsilon * decay)\n",
    "    total_reward = play_game(env, TrainNet, TargetNet, epsilon, copy_step)\n",
    "    all_total_rewards[n] = total_reward\n",
    "    avg_reward = all_total_rewards[max(0, n - 100):(n + 1)].mean()\n",
    "    all_avg_rewards[n] = avg_reward\n",
    "    all_epsilons[n] = epsilon\n",
    "\n",
    "    pbar.set_postfix({\n",
    "        'episode reward': total_reward,\n",
    "        'avg (100 last) reward': avg_reward,\n",
    "        'epsilon': epsilon\n",
    "    })"
   ]
  },
  {
   "cell_type": "code",
   "execution_count": 9,
   "metadata": {},
   "outputs": [
    {
     "data": {
      "image/png": "[encoded data removed]",
      "text/plain": [
       "<Figure size 432x288 with 1 Axes>"
      ]
     },
     "metadata": {
      "needs_background": "light"
     },
     "output_type": "display_data"
    }
   ],
   "source": [
    "plt.plot(all_total_rewards)\n",
    "plt.xlabel('Episode')\n",
    "plt.ylabel('Total rewards')\n",
    "plt.show()"
   ]
  },
  {
   "cell_type": "code",
   "execution_count": 10,
   "metadata": {},
   "outputs": [
    {
     "data": {
      "image/png": "[encoded data removed]",
      "text/plain": [
       "<Figure size 432x288 with 1 Axes>"
      ]
     },
     "metadata": {
      "needs_background": "light"
     },
     "output_type": "display_data"
    }
   ],
   "source": [
    "plt.plot(all_avg_rewards)\n",
    "plt.xlabel('Episode')\n",
    "plt.ylabel('Avg rewards (100)')\n",
    "plt.show()"
   ]
  },
  {
   "cell_type": "code",
   "execution_count": 13,
   "metadata": {},
   "outputs": [
    {
     "data": {
      "text/plain": [
       "<__main__.DQN at 0x11cafc890>"
      ]
     },
     "execution_count": 13,
     "metadata": {},
     "output_type": "execute_result"
    }
   ],
   "source": [
    "TrainNet"
   ]
  },
  {
   "cell_type": "code",
   "execution_count": 11,
   "metadata": {},
   "outputs": [
    {
     "data": {
      "image/png": "[encoded data removed]",
      "text/plain": [
       "<Figure size 432x288 with 1 Axes>"
      ]
     },
     "metadata": {
      "needs_background": "light"
     },
     "output_type": "display_data"
    }
   ],
   "source": [
    "plt.plot(all_epsilons)\n",
    "plt.xlabel('Episode')\n",
    "plt.ylabel('Epsilon')\n",
    "plt.show()"
   ]
  },
  {
   "cell_type": "code",
   "execution_count": 24,
   "metadata": {},
   "outputs": [],
   "source": [
    "env_fine_tuning = ConnectX(pair=[TrainNet, TrainNet_ft])"
   ]
  },
  {
   "cell_type": "code",
   "execution_count": 25,
   "metadata": {},
   "outputs": [],
   "source": [
    "# Initialize models\n",
    "TrainNet = DQN(num_states, num_actions, hidden_units, gamma, max_experiences, min_experiences, batch_size, lr)\n",
    "TargetNet = DQN(num_states, num_actions, hidden_units, gamma, max_experiences, min_experiences, batch_size, lr)"
   ]
  },
  {
   "cell_type": "code",
   "execution_count": 26,
   "metadata": {},
   "outputs": [
    {
     "data": {
      "application/vnd.jupyter.widget-view+json": {
       "model_id": "7881b95dbe624e8ea4e041d8ab48b619",
       "version_major": 2,
       "version_minor": 0
      },
      "text/plain": [
       "HBox(children=(IntProgress(value=0, max=5000), HTML(value='')))"
      ]
     },
     "metadata": {},
     "output_type": "display_data"
    },
    {
     "name": "stdout",
     "output_type": "stream",
     "text": [
      "\n"
     ]
    }
   ],
   "source": [
    "pbar = tqdm(range(episodes))\n",
    "for n in pbar:\n",
    "    epsilon = max(min_epsilon, epsilon * decay)\n",
    "    total_reward = play_game(env_fine_tuning, TrainNet, TargetNet, epsilon, copy_step)\n",
    "    all_total_rewards[n] = total_reward\n",
    "    avg_reward = all_total_rewards[max(0, n - 100):(n + 1)].mean()\n",
    "    all_avg_rewards[n] = avg_reward\n",
    "    all_epsilons[n] = epsilon\n",
    "\n",
    "    pbar.set_postfix({\n",
    "        'episode reward': total_reward,\n",
    "        'avg (100 last) reward': avg_reward,\n",
    "        'epsilon': epsilon\n",
    "    })"
   ]
  },
  {
   "cell_type": "code",
   "execution_count": 27,
   "metadata": {},
   "outputs": [
    {
     "data": {
      "image/png": "[encoded data removed]",
      "text/plain": [
       "<Figure size 432x288 with 1 Axes>"
      ]
     },
     "metadata": {
      "needs_background": "light"
     },
     "output_type": "display_data"
    }
   ],
   "source": [
    "plt.plot(all_avg_rewards)\n",
    "plt.xlabel('Episode')\n",
    "plt.ylabel('Avg rewards (100)')\n",
    "plt.show()"
   ]
  },
  {
   "cell_type": "code",
   "execution_count": 19,
   "metadata": {},
   "outputs": [
    {
     "data": {
      "image/png": "[encoded data removed]",
      "text/plain": [
       "<Figure size 432x288 with 1 Axes>"
      ]
     },
     "metadata": {
      "needs_background": "light"
     },
     "output_type": "display_data"
    }
   ],
   "source": [
    "plt.plot(all_avg_rewards)\n",
    "plt.xlabel('Episode')\n",
    "plt.ylabel('Avg rewards (100)')\n",
    "plt.show()"
   ]
  },
  {
   "cell_type": "markdown",
   "metadata": {},
   "source": [
    "<a class=\"anchor\" id=\"save_weights\"></a>\n",
    "# Save weights\n",
    "[Back to Table of Contents](#ToC)"
   ]
  },
  {
   "cell_type": "code",
   "execution_count": 28,
   "metadata": {},
   "outputs": [],
   "source": [
    "TrainNet.save_weights('./weights.pth')"
   ]
  },
  {
   "cell_type": "code",
   "execution_count": 31,
   "metadata": {},
   "outputs": [
    {
     "data": {
      "text/plain": [
       "<__main__.DQN at 0x121c37790>"
      ]
     },
     "execution_count": 31,
     "metadata": {},
     "output_type": "execute_result"
    }
   ],
   "source": []
  },
  {
   "cell_type": "markdown",
   "metadata": {},
   "source": [
    "<a class=\"anchor\" id=\"create_an_agent\"></a>\n",
    "# Create an agent\n",
    "[Back to Table of Contents](#ToC)"
   ]
  },
  {
   "cell_type": "code",
   "execution_count": null,
   "metadata": {},
   "outputs": [],
   "source": [
    "fc_layers = []\n",
    "\n",
    "# Get all hidden layers' weights\n",
    "for i in range(len(hidden_units)):\n",
    "    fc_layers.extend([\n",
    "        TrainNet.model.hidden_layers[i].weight.T.tolist(), # weights\n",
    "        TrainNet.model.hidden_layers[i].bias.tolist() # bias\n",
    "    ])\n",
    "\n",
    "# Get output layer's weights\n",
    "fc_layers.extend([\n",
    "    TrainNet.model.output_layer.weight.T.tolist(), # weights\n",
    "    TrainNet.model.output_layer.bias.tolist() # bias\n",
    "])\n",
    "\n",
    "# Convert all layers into usable form before integrating to final agent\n",
    "fc_layers = list(map(\n",
    "    lambda x: str(list(np.round(x, precision))) \\\n",
    "        .replace('array(', '').replace(')', '') \\\n",
    "        .replace(' ', '') \\\n",
    "        .replace('\\n', ''),\n",
    "    fc_layers\n",
    "))\n",
    "fc_layers = np.reshape(fc_layers, (-1, 2))\n",
    "\n",
    "# Create the agent\n",
    "my_agent = '''def my_agent(observation, configuration):\n",
    "    import numpy as np\n",
    "\n",
    "'''\n",
    "\n",
    "# Write hidden layers\n",
    "for i, (w, b) in enumerate(fc_layers[:-1]):\n",
    "    my_agent += '    hl{}_w = np.array({}, dtype=np.float32)\\n'.format(i+1, w)\n",
    "    my_agent += '    hl{}_b = np.array({}, dtype=np.float32)\\n'.format(i+1, b)\n",
    "# Write output layer\n",
    "my_agent += '    ol_w = np.array({}, dtype=np.float32)\\n'.format(fc_layers[-1][0])\n",
    "my_agent += '    ol_b = np.array({}, dtype=np.float32)\\n'.format(fc_layers[-1][1])\n",
    "\n",
    "my_agent += '''\n",
    "    state = observation.board[:]\n",
    "    state.append(observation.mark)\n",
    "    out = np.array(state, dtype=np.float32)\n",
    "\n",
    "'''\n",
    "\n",
    "# Calculate hidden layers\n",
    "for i in range(len(fc_layers[:-1])):\n",
    "    my_agent += '    out = np.matmul(out, hl{0}_w) + hl{0}_b\\n'.format(i+1)\n",
    "    my_agent += '    out = 1/(1 + np.exp(-out))\\n' # Sigmoid function\n",
    "# Calculate output layer\n",
    "my_agent += '    out = np.matmul(out, ol_w) + ol_b\\n'\n",
    "\n",
    "my_agent += '''\n",
    "    for i in range(configuration.columns):\n",
    "        if observation.board[i] != 0:\n",
    "            out[i] = -1e7\n",
    "\n",
    "    return int(np.argmax(out))\n",
    "    '''"
   ]
  },
  {
   "cell_type": "code",
   "execution_count": null,
   "metadata": {},
   "outputs": [],
   "source": [
    "with open('submission.py', 'w') as f:\n",
    "    f.write(my_agent)"
   ]
  },
  {
   "cell_type": "markdown",
   "metadata": {},
   "source": [
    "<a class=\"anchor\" id=\"evaluate_the_agent\"></a>\n",
    "# Evaluate the agent\n",
    "[Back to Table of Contents](#ToC)"
   ]
  },
  {
   "cell_type": "code",
   "execution_count": null,
   "metadata": {},
   "outputs": [],
   "source": [
    "from submission import my_agent"
   ]
  },
  {
   "cell_type": "code",
   "execution_count": null,
   "metadata": {},
   "outputs": [],
   "source": [
    "def mean_reward(rewards):\n",
    "    return sum(r[0] for r in rewards) / sum(r[0] + r[1] for r in rewards)\n",
    "\n",
    "# Run multiple episodes to estimate agent's performance.\n",
    "print(\"My Agent vs. Random Agent:\", mean_reward(evaluate(\"connectx\", [my_agent, \"random\"], num_episodes=10)))\n",
    "print(\"My Agent vs. Negamax Agent:\", mean_reward(evaluate(\"connectx\", [my_agent, \"negamax\"], num_episodes=10)))\n",
    "print(\"Random Agent vs. My Agent:\", mean_reward(evaluate(\"connectx\", [\"random\", my_agent], num_episodes=10)))\n",
    "print(\"Negamax Agent vs. My Agent:\", mean_reward(evaluate(\"connectx\", [\"negamax\", my_agent], num_episodes=10)))"
   ]
  }
 ],
 "metadata": {
  "kernelspec": {
   "display_name": "Python 3",
   "language": "python",
   "name": "python3"
  },
  "language_info": {
   "codemirror_mode": {
    "name": "ipython",
    "version": 3
   },
   "file_extension": ".py",
   "mimetype": "text/x-python",
   "name": "python",
   "nbconvert_exporter": "python",
   "pygments_lexer": "ipython3",
   "version": "3.7.4"
  }
 },
 "nbformat": 4,
 "nbformat_minor": 4
}
